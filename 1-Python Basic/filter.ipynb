{
 "cells": [
  {
   "cell_type": "markdown",
   "id": "b4e99d7b",
   "metadata": {},
   "source": [
    "# filter functions\n"
   ]
  },
  {
   "cell_type": "code",
   "execution_count": 1,
   "id": "26fbae56",
   "metadata": {},
   "outputs": [
    {
     "data": {
      "text/plain": [
       "[2, 4, 6, 8, 10, 12]"
      ]
     },
     "execution_count": 1,
     "metadata": {},
     "output_type": "execute_result"
    }
   ],
   "source": [
    "def even(num):\n",
    "    if num%2==0:\n",
    "        return True\n",
    "even(24)\n",
    "\n",
    "lst=[1,2,3,4,5,6,7,8,9,10,11,12]\n",
    "list(filter(even,lst))"
   ]
  },
  {
   "cell_type": "code",
   "execution_count": 3,
   "id": "50011c1f",
   "metadata": {},
   "outputs": [
    {
     "name": "stdout",
     "output_type": "stream",
     "text": [
      "[6, 8, 10, 12]\n"
     ]
    }
   ],
   "source": [
    "greater_than_five=list(filter(lambda x:x>5 and x%2==0, lst))\n",
    "print(greater_than_five)"
   ]
  }
 ],
 "metadata": {
  "kernelspec": {
   "display_name": "Python 3",
   "language": "python",
   "name": "python3"
  },
  "language_info": {
   "codemirror_mode": {
    "name": "ipython",
    "version": 3
   },
   "file_extension": ".py",
   "mimetype": "text/x-python",
   "name": "python",
   "nbconvert_exporter": "python",
   "pygments_lexer": "ipython3",
   "version": "3.13.0"
  }
 },
 "nbformat": 4,
 "nbformat_minor": 5
}

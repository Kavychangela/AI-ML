{
 "cells": [
  {
   "cell_type": "markdown",
   "id": "b479d153",
   "metadata": {},
   "source": [
    "### 5 Number Summary And Box Plot"
   ]
  },
  {
   "cell_type": "code",
   "execution_count": 1,
   "id": "492be16d",
   "metadata": {},
   "outputs": [],
   "source": [
    "## Minimum, Maximum, Median, Q1, Q2, Q3"
   ]
  },
  {
   "cell_type": "code",
   "execution_count": 2,
   "id": "ac2de3c7",
   "metadata": {},
   "outputs": [],
   "source": [
    "import numpy as np"
   ]
  },
  {
   "cell_type": "code",
   "execution_count": 6,
   "id": "51a9d0e7",
   "metadata": {},
   "outputs": [],
   "source": [
    "lst_marks=[45,32,45,65,76,87,34,56,78,23,54,13,1,67,5,25,84,28,59]\n",
    "minimum,Q1,median,Q3,maximum=np.quantile(lst_marks, [0, 0.25, 0.50, 0.75, 1.0])"
   ]
  },
  {
   "cell_type": "code",
   "execution_count": 8,
   "id": "4dae51d8",
   "metadata": {},
   "outputs": [
    {
     "name": "stdout",
     "output_type": "stream",
     "text": [
      "1.0 26.5 45.0 66.0 87.0\n"
     ]
    }
   ],
   "source": [
    "print(minimum, Q1, median, Q3, maximum)"
   ]
  },
  {
   "cell_type": "code",
   "execution_count": 10,
   "id": "90a96f1c",
   "metadata": {},
   "outputs": [
    {
     "name": "stdout",
     "output_type": "stream",
     "text": [
      "39.5\n"
     ]
    }
   ],
   "source": [
    "IQR=Q3-Q1\n",
    "print(IQR)"
   ]
  },
  {
   "cell_type": "code",
   "execution_count": 14,
   "id": "1fb2ff54",
   "metadata": {},
   "outputs": [
    {
     "name": "stdout",
     "output_type": "stream",
     "text": [
      "-32.75\n",
      "125.25\n"
     ]
    }
   ],
   "source": [
    "lower_fence=Q1-1.5*(IQR)\n",
    "higher_fence=Q3+1.5*(IQR)\n",
    "print(lower_fence)\n",
    "print(higher_fence)"
   ]
  },
  {
   "cell_type": "code",
   "execution_count": 15,
   "id": "b57eb46a",
   "metadata": {},
   "outputs": [],
   "source": [
    "import seaborn as sns"
   ]
  },
  {
   "cell_type": "code",
   "execution_count": 25,
   "id": "7faf1950",
   "metadata": {},
   "outputs": [],
   "source": [
    "lst_marks=[45,150, -50, 32,45,65,76,87,34,56,78,23,54,13,1,67,5,25,84,28,59]\n"
   ]
  },
  {
   "cell_type": "code",
   "execution_count": 26,
   "id": "61d1c798",
   "metadata": {},
   "outputs": [
    {
     "data": {
      "text/plain": [
       "<Axes: >"
      ]
     },
     "execution_count": 26,
     "metadata": {},
     "output_type": "execute_result"
    },
    {
     "data": {
      "image/png": "[encoded data removed]",
      "text/plain": [
       "<Figure size 640x480 with 1 Axes>"
      ]
     },
     "metadata": {},
     "output_type": "display_data"
    }
   ],
   "source": [
    "sns.boxplot(lst_marks)"
   ]
  },
  {
   "cell_type": "code",
   "execution_count": null,
   "id": "406d7a8b",
   "metadata": {},
   "outputs": [],
   "source": []
  }
 ],
 "metadata": {
  "kernelspec": {
   "display_name": "base",
   "language": "python",
   "name": "python3"
  },
  "language_info": {
   "codemirror_mode": {
    "name": "ipython",
    "version": 3
   },
   "file_extension": ".py",
   "mimetype": "text/x-python",
   "name": "python",
   "nbconvert_exporter": "python",
   "pygments_lexer": "ipython3",
   "version": "3.13.5"
  }
 },
 "nbformat": 4,
 "nbformat_minor": 5
}

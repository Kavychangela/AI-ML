{
 "cells": [
  {
   "cell_type": "markdown",
   "id": "b851376e",
   "metadata": {},
   "source": [
    "#### Python Memory Management\n",
    "Memory management in Python involves a combination of automatic garbage collection, reference counting, and various internal optimizations to efficiently manage memory allocation and deallocation. Understanding these mechanisms can help developers write more efficient and robust applications.\n",
    "\n",
    "1. Key Concepts in Python Memory Management\n",
    "2. Memory Allocation and Deallocation\n",
    "3. Reference Counting\n",
    "4. Garbage Collection\n",
    "5. The gc Module\n",
    "6. Memory Management Best Practices"
   ]
  },
  {
   "cell_type": "markdown",
   "id": "f035ed43",
   "metadata": {},
   "source": [
    "#### Reference Counting\n",
    "Reference counting is the primary method Python uses to manage memory. Each object in Python maintains a count of references pointing to it. When the reference count drops to zero, the memory occupied by the object is deallocated."
   ]
  },
  {
   "cell_type": "code",
   "execution_count": null,
   "id": "cd102c6d",
   "metadata": {},
   "outputs": [
    {
     "name": "stdout",
     "output_type": "stream",
     "text": [
      "2\n"
     ]
    }
   ],
   "source": [
    "import sys\n",
    "\n",
    "a=[]\n",
    "## 2 (one reference coming from a variable and one from getrefcount())\n",
    "print(sys.getrefcount(a))"
   ]
  },
  {
   "cell_type": "code",
   "execution_count": 2,
   "id": "61c017ec",
   "metadata": {},
   "outputs": [
    {
     "name": "stdout",
     "output_type": "stream",
     "text": [
      "3\n"
     ]
    }
   ],
   "source": [
    "b=a\n",
    "print(sys.getrefcount(b))"
   ]
  },
  {
   "cell_type": "code",
   "execution_count": 3,
   "id": "990fae76",
   "metadata": {},
   "outputs": [
    {
     "ename": "NameError",
     "evalue": "name 'b' is not defined",
     "output_type": "error",
     "traceback": [
      "\u001b[31m---------------------------------------------------------------------------\u001b[39m",
      "\u001b[31mNameError\u001b[39m                                 Traceback (most recent call last)",
      "\u001b[36mCell\u001b[39m\u001b[36m \u001b[39m\u001b[32mIn[3]\u001b[39m\u001b[32m, line 3\u001b[39m\n\u001b[32m      1\u001b[39m \u001b[38;5;28;01mdel\u001b[39;00m b\n\u001b[32m----> \u001b[39m\u001b[32m3\u001b[39m \u001b[38;5;28mprint\u001b[39m(sys.getrefcount(\u001b[43mb\u001b[49m))\n",
      "\u001b[31mNameError\u001b[39m: name 'b' is not defined"
     ]
    }
   ],
   "source": [
    "del b\n",
    "\n",
    "print(sys.getrefcount(b))"
   ]
  },
  {
   "cell_type": "code",
   "execution_count": 4,
   "id": "3e628354",
   "metadata": {},
   "outputs": [
    {
     "name": "stdout",
     "output_type": "stream",
     "text": [
      "2\n"
     ]
    }
   ],
   "source": [
    "print(sys.getrefcount(a))"
   ]
  },
  {
   "cell_type": "code",
   "execution_count": null,
   "id": "bc186395",
   "metadata": {},
   "outputs": [
    {
     "ename": "SyntaxError",
     "evalue": "invalid syntax (1587327971.py, line 2)",
     "output_type": "error",
     "traceback": [
      "  \u001b[36mCell\u001b[39m\u001b[36m \u001b[39m\u001b[32mIn[5]\u001b[39m\u001b[32m, line 2\u001b[39m\n\u001b[31m    \u001b[39m\u001b[31mPython includes a cyclic garbage collector to handle reference cycles. Reference cycles occur when objects reference each other, preventing their reference counts from reaching zero.\u001b[39m\n           ^\n\u001b[31mSyntaxError\u001b[39m\u001b[31m:\u001b[39m invalid syntax\n"
     ]
    }
   ],
   "source": []
  },
  {
   "cell_type": "markdown",
   "id": "9d4f5860",
   "metadata": {},
   "source": [
    "#### Garbage Collection\n",
    "Python includes a cyclic garbage collector to handle reference cycles. Reference cycles occur when objects reference each other, preventing their reference counts from reaching zero."
   ]
  },
  {
   "cell_type": "code",
   "execution_count": 6,
   "id": "a8c16760",
   "metadata": {},
   "outputs": [],
   "source": [
    "import gc\n",
    "## enable garbage collection\n",
    "gc.enable()"
   ]
  },
  {
   "cell_type": "code",
   "execution_count": 8,
   "id": "2da3b174",
   "metadata": {},
   "outputs": [],
   "source": [
    "gc.disable()"
   ]
  },
  {
   "cell_type": "code",
   "execution_count": 9,
   "id": "a8df97a4",
   "metadata": {},
   "outputs": [
    {
     "data": {
      "text/plain": [
       "783"
      ]
     },
     "execution_count": 9,
     "metadata": {},
     "output_type": "execute_result"
    }
   ],
   "source": [
    "gc.collect()"
   ]
  },
  {
   "cell_type": "code",
   "execution_count": 10,
   "id": "4b730bce",
   "metadata": {},
   "outputs": [
    {
     "name": "stdout",
     "output_type": "stream",
     "text": [
      "[{'collections': 70, 'collected': 1990, 'uncollectable': 0}, {'collections': 6, 'collected': 364, 'uncollectable': 0}, {'collections': 1, 'collected': 783, 'uncollectable': 0}]\n"
     ]
    }
   ],
   "source": [
    "### Get garbage collection stats\n",
    "print(gc.get_stats())"
   ]
  },
  {
   "cell_type": "code",
   "execution_count": 11,
   "id": "cc7035f8",
   "metadata": {},
   "outputs": [
    {
     "name": "stdout",
     "output_type": "stream",
     "text": [
      "[]\n"
     ]
    }
   ],
   "source": [
    "### get unreachable objects\n",
    "print(gc.garbage)"
   ]
  },
  {
   "cell_type": "markdown",
   "id": "0bfc5569",
   "metadata": {},
   "source": [
    "####  Memory Management Best Practices\n",
    "1. Use Local Variables: Local variables have a shorter lifespan and are freed sooner than global variables.\n",
    "2. Avoid Circular References: Circular references can lead to memory leaks if not properly managed.\n",
    "3. Use Generators: Generators produce items one at a time and only keep one item in memory at a time, making them memory efficient.\n",
    "4. Explicitly Delete Objects: Use the del statement to delete variables and objects explicitly.\n",
    "5. Profile Memory Usage: Use memory profiling tools like tracemalloc and memory_profiler to identify memory leaks and optimize memory usage."
   ]
  },
  {
   "cell_type": "code",
   "execution_count": 18,
   "id": "77bb7a59",
   "metadata": {},
   "outputs": [
    {
     "name": "stdout",
     "output_type": "stream",
     "text": [
      "Object obj1 created\n",
      "Object obj2 created\n",
      "Object obj1 deleted\n",
      "Object obj2 deleted\n"
     ]
    },
    {
     "data": {
      "text/plain": [
       "9"
      ]
     },
     "execution_count": 18,
     "metadata": {},
     "output_type": "execute_result"
    }
   ],
   "source": [
    "## Handling Circular Reference\n",
    "import gc\n",
    "\n",
    "class MyObject:\n",
    "    def __init__(self,name):\n",
    "        self.name=name\n",
    "        print(f\"Object {self.name} created\")\n",
    "\n",
    "    def __del__(self):\n",
    "        print(f\"Object {self.name} deleted\")\n",
    "\n",
    "## Create circular reference \n",
    "\n",
    "obj1=MyObject(\"obj1\")\n",
    "obj2=MyObject(\"obj2\")\n",
    "obj1.ref=obj2\n",
    "obj2.ref=obj1\n",
    "\n",
    "del obj1\n",
    "del obj2\n",
    "\n",
    "##Manually trigger the garbage collection\n",
    "gc.collect()"
   ]
  },
  {
   "cell_type": "code",
   "execution_count": 20,
   "id": "92eea7da",
   "metadata": {},
   "outputs": [
    {
     "name": "stdout",
     "output_type": "stream",
     "text": [
      "0\n",
      "1\n",
      "2\n",
      "3\n",
      "4\n",
      "5\n",
      "6\n",
      "7\n",
      "8\n",
      "9\n",
      "10\n",
      "11\n"
     ]
    }
   ],
   "source": [
    "## Generators For Memory Efficiency\n",
    "## GEnerator allow you to produce items one at a time, using memory efficiently by only keeping one item in memory at a time\n",
    "\n",
    "def generate_numbers(n):\n",
    "    for i in range(n):\n",
    "        yield i\n",
    "\n",
    "for num in generate_numbers(100000):\n",
    "    print(num)\n",
    "    if num>10:\n",
    "        break"
   ]
  },
  {
   "cell_type": "code",
   "execution_count": 23,
   "id": "d60fe30c",
   "metadata": {},
   "outputs": [],
   "source": [
    "## Profiling Memory Usage with tracemalloc\n",
    "import tracemalloc\n",
    "\n",
    "def create_list():\n",
    "    return [i for i in range(10000)]\n",
    "\n",
    "def main():\n",
    "    tracemalloc.start()\n",
    "\n",
    "    create_list()\n",
    "\n",
    "    snapshot=tracemalloc.take_snapshot()\n",
    "    top_stats=snapshot.statistics('lineno')\n",
    "\n",
    "    print(\"[ Top 10 ]\")\n",
    "    for stat in top_stats:\n",
    "        print(stat)\n",
    "    "
   ]
  },
  {
   "cell_type": "code",
   "execution_count": null,
   "id": "bf53a09f",
   "metadata": {},
   "outputs": [
    {
     "name": "stdout",
     "output_type": "stream",
     "text": [
      "[ Top 10 ]\n",
      "c:\\Users\\kavy1\\OneDrive\\Desktop\\AI-ML\\venv\\Lib\\json\\decoder.py:360: size=2006 B, count=24, average=84 B\n",
      "c:\\Users\\kavy1\\OneDrive\\Desktop\\AI-ML\\venv\\Lib\\codeop.py:117: size=1328 B, count=11, average=121 B\n",
      "C:\\Users\\kavy1\\AppData\\Roaming\\Python\\Python313\\site-packages\\zmq\\sugar\\attrsettr.py:45: size=1316 B, count=28, average=47 B\n",
      "C:\\Users\\kavy1\\AppData\\Roaming\\Python\\Python313\\site-packages\\jupyter_client\\session.py:100: size=1243 B, count=8, average=155 B\n",
      "C:\\Users\\kavy1\\AppData\\Roaming\\Python\\Python313\\site-packages\\IPython\\core\\compilerop.py:174: size=1092 B, count=15, average=73 B\n",
      "C:\\Users\\kavy1\\AppData\\Roaming\\Python\\Python313\\site-packages\\traitlets\\traitlets.py:731: size=1077 B, count=17, average=63 B\n",
      "c:\\Users\\kavy1\\OneDrive\\Desktop\\AI-ML\\venv\\Lib\\contextlib.py:109: size=1064 B, count=11, average=97 B\n",
      "C:\\Users\\kavy1\\AppData\\Roaming\\Python\\Python313\\site-packages\\zmq\\sugar\\socket.py:802: size=1056 B, count=6, average=176 B\n",
      "C:\\Users\\kavy1\\AppData\\Roaming\\Python\\Python313\\site-packages\\traitlets\\traitlets.py:1543: size=1054 B, count=17, average=62 B\n",
      "C:\\Users\\kavy1\\AppData\\Roaming\\Python\\Python313\\site-packages\\jupyter_client\\session.py:1057: size=811 B, count=6, average=135 B\n",
      "C:\\Users\\kavy1\\AppData\\Roaming\\Python\\Python313\\site-packages\\IPython\\core\\compilerop.py:86: size=795 B, count=10, average=80 B\n",
      "C:\\Users\\kavy1\\AppData\\Roaming\\Python\\Python313\\site-packages\\traitlets\\traitlets.py:1514: size=720 B, count=6, average=120 B\n",
      "C:\\Users\\kavy1\\AppData\\Roaming\\Python\\Python313\\site-packages\\jupyter_client\\jsonutil.py:111: size=700 B, count=14, average=50 B\n",
      "C:\\Users\\kavy1\\AppData\\Roaming\\Python\\Python313\\site-packages\\ipykernel\\iostream.py:346: size=600 B, count=9, average=67 B\n",
      "C:\\Users\\kavy1\\AppData\\Roaming\\Python\\Python313\\site-packages\\IPython\\core\\interactiveshell.py:3145: size=536 B, count=4, average=134 B\n",
      "C:\\Users\\kavy1\\AppData\\Roaming\\Python\\Python313\\site-packages\\ipykernel\\iostream.py:276: size=528 B, count=5, average=106 B\n",
      "c:\\Users\\kavy1\\OneDrive\\Desktop\\AI-ML\\venv\\Lib\\asyncio\\events.py:89: size=448 B, count=5, average=90 B\n",
      "C:\\Users\\kavy1\\AppData\\Roaming\\Python\\Python313\\site-packages\\ipykernel\\kernelbase.py:764: size=432 B, count=2, average=216 B\n",
      "C:\\Users\\kavy1\\AppData\\Roaming\\Python\\Python313\\site-packages\\IPython\\core\\history.py:958: size=420 B, count=2, average=210 B\n",
      "C:\\Users\\kavy1\\AppData\\Roaming\\Python\\Python313\\site-packages\\IPython\\core\\interactiveshell.py:3394: size=376 B, count=1, average=376 B\n",
      "C:\\Users\\kavy1\\AppData\\Roaming\\Python\\Python313\\site-packages\\IPython\\core\\interactiveshell.py:3502: size=375 B, count=1, average=375 B\n",
      "C:\\Users\\kavy1\\AppData\\Roaming\\Python\\Python313\\site-packages\\ipykernel\\ipkernel.py:368: size=368 B, count=1, average=368 B\n",
      "C:\\Users\\kavy1\\AppData\\Roaming\\Python\\Python313\\site-packages\\ipykernel\\iostream.py:287: size=328 B, count=4, average=82 B\n",
      "C:\\Users\\kavy1\\AppData\\Roaming\\Python\\Python313\\site-packages\\IPython\\core\\interactiveshell.py:3043: size=320 B, count=2, average=160 B\n",
      "C:\\Users\\kavy1\\AppData\\Roaming\\Python\\Python313\\site-packages\\IPython\\core\\interactiveshell.py:3639: size=296 B, count=1, average=296 B\n",
      "c:\\Users\\kavy1\\OneDrive\\Desktop\\AI-ML\\venv\\Lib\\asyncio\\base_events.py:849: size=280 B, count=3, average=93 B\n",
      "C:\\Users\\kavy1\\AppData\\Roaming\\Python\\Python313\\site-packages\\ipykernel\\kernelbase.py:508: size=272 B, count=1, average=272 B\n",
      "c:\\Users\\kavy1\\OneDrive\\Desktop\\AI-ML\\venv\\Lib\\logging\\__init__.py:1602: size=264 B, count=1, average=264 B\n",
      "C:\\Users\\kavy1\\AppData\\Roaming\\Python\\Python313\\site-packages\\IPython\\core\\history.py:966: size=256 B, count=1, average=256 B\n",
      "C:\\Users\\kavy1\\AppData\\Roaming\\Python\\Python313\\site-packages\\IPython\\core\\history.py:965: size=256 B, count=1, average=256 B\n",
      "C:\\Users\\kavy1\\AppData\\Roaming\\Python\\Python313\\site-packages\\ipykernel\\kernelbase.py:398: size=248 B, count=1, average=248 B\n",
      "C:\\Users\\kavy1\\AppData\\Roaming\\Python\\Python313\\site-packages\\ipykernel\\iostream.py:121: size=248 B, count=1, average=248 B\n",
      "c:\\Users\\kavy1\\OneDrive\\Desktop\\AI-ML\\venv\\Lib\\inspect.py:266: size=240 B, count=2, average=120 B\n",
      "C:\\Users\\kavy1\\AppData\\Roaming\\Python\\Python313\\site-packages\\IPython\\core\\interactiveshell.py:3271: size=240 B, count=2, average=120 B\n",
      "C:\\Users\\kavy1\\AppData\\Roaming\\Python\\Python313\\site-packages\\ipykernel\\kernelbase.py:519: size=240 B, count=1, average=240 B\n",
      "C:\\Users\\kavy1\\AppData\\Roaming\\Python\\Python313\\site-packages\\ipykernel\\zmqshell.py:577: size=224 B, count=3, average=75 B\n",
      "c:\\Users\\kavy1\\OneDrive\\Desktop\\AI-ML\\venv\\Lib\\contextlib.py:305: size=224 B, count=2, average=112 B\n",
      "C:\\Users\\kavy1\\AppData\\Roaming\\Python\\Python313\\site-packages\\jupyter_client\\session.py:1085: size=208 B, count=1, average=208 B\n",
      "C:\\Users\\kavy1\\AppData\\Roaming\\Python\\Python313\\site-packages\\jupyter_client\\jsonutil.py:75: size=208 B, count=1, average=208 B\n",
      "C:\\Users\\kavy1\\AppData\\Roaming\\Python\\Python313\\site-packages\\ipykernel\\kernelbase.py:759: size=208 B, count=1, average=208 B\n",
      "C:\\Users\\kavy1\\AppData\\Roaming\\Python\\Python313\\site-packages\\ipykernel\\compiler.py:91: size=207 B, count=2, average=104 B\n",
      "C:\\Users\\kavy1\\AppData\\Roaming\\Python\\Python313\\site-packages\\jupyter_client\\session.py:688: size=194 B, count=2, average=97 B\n",
      "C:\\Users\\kavy1\\AppData\\Roaming\\Python\\Python313\\site-packages\\jupyter_client\\session.py:750: size=192 B, count=2, average=96 B\n",
      "C:\\Users\\kavy1\\AppData\\Roaming\\Python\\Python313\\site-packages\\zmq\\sugar\\socket.py:799: size=184 B, count=2, average=92 B\n",
      "C:\\Users\\kavy1\\AppData\\Roaming\\Python\\Python313\\site-packages\\IPython\\core\\interactiveshell.py:3279: size=176 B, count=2, average=88 B\n",
      "C:\\Users\\kavy1\\AppData\\Roaming\\Python\\Python313\\site-packages\\ipykernel\\kernelbase.py:1175: size=173 B, count=2, average=86 B\n",
      "C:\\Users\\kavy1\\AppData\\Roaming\\Python\\Python313\\site-packages\\IPython\\core\\history.py:1011: size=160 B, count=2, average=80 B\n",
      "C:\\Users\\kavy1\\AppData\\Roaming\\Python\\Python313\\site-packages\\ipykernel\\kernelbase.py:544: size=160 B, count=1, average=160 B\n",
      "C:\\Users\\kavy1\\AppData\\Roaming\\Python\\Python313\\site-packages\\IPython\\core\\interactiveshell.py:3699: size=160 B, count=1, average=160 B\n",
      "C:\\Users\\kavy1\\AppData\\Roaming\\Python\\Python313\\site-packages\\IPython\\core\\interactiveshell.py:3615: size=160 B, count=1, average=160 B\n",
      "C:\\Users\\kavy1\\AppData\\Roaming\\Python\\Python313\\site-packages\\IPython\\core\\interactiveshell.py:3292: size=160 B, count=1, average=160 B\n",
      "C:\\Users\\kavy1\\AppData\\Local\\Temp\\ipykernel_22348\\3803035358.py:7: size=160 B, count=1, average=160 B\n",
      "C:\\Users\\kavy1\\AppData\\Local\\Temp\\ipykernel_22348\\3803035358.py:4: size=160 B, count=1, average=160 B\n",
      "C:\\Users\\kavy1\\AppData\\Roaming\\Python\\Python313\\site-packages\\tornado\\platform\\asyncio.py:241: size=144 B, count=2, average=72 B\n",
      "C:\\Users\\kavy1\\AppData\\Roaming\\Python\\Python313\\site-packages\\ipykernel\\iostream.py:722: size=144 B, count=2, average=72 B\n",
      "C:\\Users\\kavy1\\AppData\\Roaming\\Python\\Python313\\site-packages\\IPython\\core\\interactiveshell.py:3065: size=144 B, count=1, average=144 B\n",
      "C:\\Users\\kavy1\\AppData\\Roaming\\Python\\Python313\\site-packages\\ipykernel\\iostream.py:527: size=136 B, count=2, average=68 B\n",
      "c:\\Users\\kavy1\\OneDrive\\Desktop\\AI-ML\\venv\\Lib\\asyncio\\base_events.py:460: size=136 B, count=1, average=136 B\n",
      "C:\\Users\\kavy1\\AppData\\Roaming\\Python\\Python313\\site-packages\\tornado\\queues.py:248: size=136 B, count=1, average=136 B\n",
      "C:\\Users\\kavy1\\AppData\\Roaming\\Python\\Python313\\site-packages\\IPython\\core\\interactiveshell.py:3114: size=128 B, count=2, average=64 B\n",
      "c:\\Users\\kavy1\\OneDrive\\Desktop\\AI-ML\\venv\\Lib\\asyncio\\base_events.py:812: size=120 B, count=1, average=120 B\n",
      "C:\\Users\\kavy1\\AppData\\Roaming\\Python\\Python313\\site-packages\\jupyter_client\\session.py:989: size=111 B, count=2, average=56 B\n",
      "C:\\Users\\kavy1\\AppData\\Roaming\\Python\\Python313\\site-packages\\zmq\\sugar\\socket.py:748: size=96 B, count=2, average=48 B\n",
      "C:\\Users\\kavy1\\AppData\\Roaming\\Python\\Python313\\site-packages\\IPython\\core\\interactiveshell.py:3497: size=96 B, count=2, average=48 B\n",
      "C:\\Users\\kavy1\\AppData\\Roaming\\Python\\Python313\\site-packages\\IPython\\core\\history.py:982: size=90 B, count=2, average=45 B\n",
      "C:\\Users\\kavy1\\AppData\\Roaming\\Python\\Python313\\site-packages\\IPython\\core\\interactiveshell.py:3068: size=88 B, count=2, average=44 B\n",
      "c:\\Users\\kavy1\\OneDrive\\Desktop\\AI-ML\\venv\\Lib\\threading.py:352: size=80 B, count=2, average=40 B\n",
      "c:\\Users\\kavy1\\OneDrive\\Desktop\\AI-ML\\venv\\Lib\\asyncio\\base_events.py:2011: size=64 B, count=2, average=32 B\n",
      "C:\\Users\\kavy1\\AppData\\Roaming\\Python\\Python313\\site-packages\\IPython\\core\\interactiveshell.py:3631: size=64 B, count=2, average=32 B\n",
      "c:\\Users\\kavy1\\OneDrive\\Desktop\\AI-ML\\venv\\Lib\\threading.py:656: size=64 B, count=1, average=64 B\n",
      "C:\\Users\\kavy1\\AppData\\Roaming\\Python\\Python313\\site-packages\\zmq\\sugar\\socket.py:803: size=64 B, count=1, average=64 B\n",
      "C:\\Users\\kavy1\\AppData\\Roaming\\Python\\Python313\\site-packages\\zmq\\eventloop\\zmqstream.py:629: size=64 B, count=1, average=64 B\n",
      "C:\\Users\\kavy1\\AppData\\Roaming\\Python\\Python313\\site-packages\\ipykernel\\kernelbase.py:710: size=64 B, count=1, average=64 B\n",
      "C:\\Users\\kavy1\\AppData\\Roaming\\Python\\Python313\\site-packages\\ipykernel\\ipkernel.py:455: size=64 B, count=1, average=64 B\n",
      "C:\\Users\\kavy1\\AppData\\Roaming\\Python\\Python313\\site-packages\\ipykernel\\ipkernel.py:390: size=64 B, count=1, average=64 B\n",
      "C:\\Users\\kavy1\\AppData\\Roaming\\Python\\Python313\\site-packages\\ipykernel\\ipkernel.py:389: size=64 B, count=1, average=64 B\n",
      "C:\\Users\\kavy1\\AppData\\Roaming\\Python\\Python313\\site-packages\\ipykernel\\ipkernel.py:300: size=64 B, count=1, average=64 B\n",
      "C:\\Users\\kavy1\\AppData\\Roaming\\Python\\Python313\\site-packages\\ipykernel\\ipkernel.py:297: size=64 B, count=1, average=64 B\n",
      "C:\\Users\\kavy1\\AppData\\Roaming\\Python\\Python313\\site-packages\\IPython\\core\\interactiveshell.py:3688: size=64 B, count=1, average=64 B\n",
      "C:\\Users\\kavy1\\AppData\\Roaming\\Python\\Python313\\site-packages\\IPython\\core\\interactiveshell.py:3363: size=64 B, count=1, average=64 B\n",
      "C:\\Users\\kavy1\\AppData\\Roaming\\Python\\Python313\\site-packages\\IPython\\core\\interactiveshell.py:3360: size=64 B, count=1, average=64 B\n",
      "C:\\Users\\kavy1\\AppData\\Roaming\\Python\\Python313\\site-packages\\ipykernel\\iostream.py:684: size=50 B, count=1, average=50 B\n",
      "C:\\Users\\kavy1\\AppData\\Roaming\\Python\\Python313\\site-packages\\IPython\\core\\interactiveshell.py:3070: size=50 B, count=1, average=50 B\n",
      "C:\\Users\\kavy1\\AppData\\Roaming\\Python\\Python313\\site-packages\\jupyter_client\\session.py:200: size=48 B, count=1, average=48 B\n",
      "C:\\Users\\kavy1\\AppData\\Roaming\\Python\\Python313\\site-packages\\dateutil\\parser\\isoparser.py:146: size=48 B, count=1, average=48 B\n",
      "C:\\Users\\kavy1\\AppData\\Roaming\\Python\\Python313\\site-packages\\IPython\\core\\interactiveshell.py:3627: size=48 B, count=1, average=48 B\n",
      "C:\\Users\\kavy1\\AppData\\Roaming\\Python\\Python313\\site-packages\\IPython\\core\\prefilter.py:317: size=47 B, count=1, average=47 B\n",
      "c:\\Users\\kavy1\\OneDrive\\Desktop\\AI-ML\\venv\\Lib\\queue.py:177: size=32 B, count=1, average=32 B\n",
      "c:\\Users\\kavy1\\OneDrive\\Desktop\\AI-ML\\venv\\Lib\\asyncio\\base_events.py:815: size=32 B, count=1, average=32 B\n",
      "C:\\Users\\kavy1\\AppData\\Roaming\\Python\\Python313\\site-packages\\tornado\\queues.py:318: size=32 B, count=1, average=32 B\n",
      "C:\\Users\\kavy1\\AppData\\Roaming\\Python\\Python313\\site-packages\\jupyter_client\\session.py:996: size=32 B, count=1, average=32 B\n",
      "C:\\Users\\kavy1\\AppData\\Roaming\\Python\\Python313\\site-packages\\jupyter_client\\session.py:603: size=32 B, count=1, average=32 B\n",
      "C:\\Users\\kavy1\\AppData\\Roaming\\Python\\Python313\\site-packages\\ipykernel\\iostream.py:637: size=32 B, count=1, average=32 B\n",
      "C:\\Users\\kavy1\\AppData\\Roaming\\Python\\Python313\\site-packages\\ipykernel\\iostream.py:168: size=32 B, count=1, average=32 B\n",
      "C:\\Users\\kavy1\\AppData\\Roaming\\Python\\Python313\\site-packages\\IPython\\core\\interactiveshell.py:3625: size=32 B, count=1, average=32 B\n",
      "C:\\Users\\kavy1\\AppData\\Roaming\\Python\\Python313\\site-packages\\IPython\\core\\history.py:969: size=32 B, count=1, average=32 B\n",
      "C:\\Users\\kavy1\\AppData\\Roaming\\Python\\Python313\\site-packages\\IPython\\core\\compilerop.py:192: size=32 B, count=1, average=32 B\n",
      "C:\\Users\\kavy1\\AppData\\Roaming\\Python\\Python313\\site-packages\\ipykernel\\kernelbase.py:534: size=28 B, count=1, average=28 B\n",
      "C:\\Users\\kavy1\\AppData\\Roaming\\Python\\Python313\\site-packages\\IPython\\core\\compilerop.py:172: size=28 B, count=1, average=28 B\n",
      "C:\\Users\\kavy1\\AppData\\Roaming\\Python\\Python313\\site-packages\\IPython\\core\\interactiveshell.py:3607: size=8 B, count=1, average=8 B\n"
     ]
    }
   ],
   "source": [
    "main()"
   ]
  },
  {
   "cell_type": "code",
   "execution_count": null,
   "id": "c4c134be",
   "metadata": {},
   "outputs": [],
   "source": []
  }
 ],
 "metadata": {
  "kernelspec": {
   "display_name": "Python 3",
   "language": "python",
   "name": "python3"
  },
  "language_info": {
   "codemirror_mode": {
    "name": "ipython",
    "version": 3
   },
   "file_extension": ".py",
   "mimetype": "text/x-python",
   "name": "python",
   "nbconvert_exporter": "python",
   "pygments_lexer": "ipython3",
   "version": "3.13.0"
  }
 },
 "nbformat": 4,
 "nbformat_minor": 5
}

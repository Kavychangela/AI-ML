{
 "cells": [
  {
   "cell_type": "markdown",
   "id": "74c53dde",
   "metadata": {},
   "source": [
    "### Encapsulation"
   ]
  },
  {
   "cell_type": "markdown",
   "id": "7aee1c94",
   "metadata": {},
   "source": [
    "Encapsulation is the concept of wrapping data(variables) and methods (functions) together as a single unit. It restricts direct access to some of the object's componets, which is a means of preventing a accidental interferences and misuse of the data."
   ]
  },
  {
   "cell_type": "code",
   "execution_count": 8,
   "id": "d0ab10a8",
   "metadata": {},
   "outputs": [
    {
     "data": {
      "text/plain": [
       "'Krish'"
      ]
     },
     "execution_count": 8,
     "metadata": {},
     "output_type": "execute_result"
    }
   ],
   "source": [
    "### Encapsulation with getter and setter methods\n",
    "### public, protected, private variables or acces modifiers\n",
    "\n",
    "class Person:\n",
    "    def __init__(self, name, age):\n",
    "        self.name=name\n",
    "        self.age=age\n",
    "def get_name(person):\n",
    "    return person.name\n",
    "\n",
    "person=Person(\"Krish\", 34)\n",
    "get_name(person)"
   ]
  },
  {
   "cell_type": "code",
   "execution_count": 22,
   "id": "b2154cd2",
   "metadata": {},
   "outputs": [],
   "source": [
    "##Creating a private variable and protected variable\n",
    "class Person:\n",
    "    def __init__(self, name, age, gender):\n",
    "        self.__name=name #Private Variable defined as __name and __age\n",
    "        self._age=age #Protected Varaible\n",
    "        self.gender=gender #Public variable\n",
    "\n",
    "# def get_name(person):\n",
    "#     return person.__name #give an error\n",
    "\n",
    "# person=Person(\"krish\", 34, \"Male\")\n",
    "# get_name(person)"
   ]
  },
  {
   "cell_type": "code",
   "execution_count": 23,
   "id": "f4423fbb",
   "metadata": {},
   "outputs": [
    {
     "data": {
      "text/plain": [
       "['_Person__name',\n",
       " '__class__',\n",
       " '__delattr__',\n",
       " '__dict__',\n",
       " '__dir__',\n",
       " '__doc__',\n",
       " '__eq__',\n",
       " '__firstlineno__',\n",
       " '__format__',\n",
       " '__ge__',\n",
       " '__getattribute__',\n",
       " '__getstate__',\n",
       " '__gt__',\n",
       " '__hash__',\n",
       " '__init__',\n",
       " '__init_subclass__',\n",
       " '__le__',\n",
       " '__lt__',\n",
       " '__module__',\n",
       " '__ne__',\n",
       " '__new__',\n",
       " '__reduce__',\n",
       " '__reduce_ex__',\n",
       " '__repr__',\n",
       " '__setattr__',\n",
       " '__sizeof__',\n",
       " '__static_attributes__',\n",
       " '__str__',\n",
       " '__subclasshook__',\n",
       " '__weakref__',\n",
       " '_age',\n",
       " 'gender']"
      ]
     },
     "execution_count": 23,
     "metadata": {},
     "output_type": "execute_result"
    }
   ],
   "source": [
    "person=Person(\"Krish\", 34, \"Male\")\n",
    "dir(person) ## will not display private variable but display publci variable gender"
   ]
  },
  {
   "cell_type": "code",
   "execution_count": 27,
   "id": "0f6544a3",
   "metadata": {},
   "outputs": [
    {
     "name": "stdout",
     "output_type": "stream",
     "text": [
      "Krish\n",
      "KRish\n"
     ]
    }
   ],
   "source": [
    "## Encapsulation with getter and setter\n",
    "\n",
    "class Person:\n",
    "    def __init__(self, name, age):\n",
    "        self.__name=name  ##private access modifier or variable\n",
    "        self.__age=age  ##private variables\n",
    "\n",
    "    ##getter method for name\n",
    "    def get_name(self):\n",
    "        return self.__name\n",
    "    \n",
    "    ##setter method for name\n",
    "    def set_name(self, name):\n",
    "        self.__name=name\n",
    "\n",
    "person=Person(\"Krish\", 34)\n",
    "\n",
    "## Access and modify private variables using getter and setter\n",
    "\n",
    "print(person.get_name())\n",
    "\n",
    "person.set_name(\"KRish\")\n",
    "print(person.get_name())\n"
   ]
  },
  {
   "cell_type": "code",
   "execution_count": null,
   "id": "0131311e",
   "metadata": {},
   "outputs": [],
   "source": []
  }
 ],
 "metadata": {
  "kernelspec": {
   "display_name": "Python 3",
   "language": "python",
   "name": "python3"
  },
  "language_info": {
   "codemirror_mode": {
    "name": "ipython",
    "version": 3
   },
   "file_extension": ".py",
   "mimetype": "text/x-python",
   "name": "python",
   "nbconvert_exporter": "python",
   "pygments_lexer": "ipython3",
   "version": "3.13.0"
  }
 },
 "nbformat": 4,
 "nbformat_minor": 5
}

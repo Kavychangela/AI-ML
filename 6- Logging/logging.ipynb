{
 "cells": [
  {
   "cell_type": "markdown",
   "id": "7e4373ba",
   "metadata": {},
   "source": [
    "#### Python Logging\n",
    "Logging is a crucial aspect of any application, providing a way to track events, errors, and operational information. Python's built-in logging module offers a flexible framework for emitting log messages from Python programs. In this lesson, we will cover the basics of logging, including how to configure logging, log levels, and best practices for using logging in Python applications."
   ]
  },
  {
   "cell_type": "code",
   "execution_count": 1,
   "id": "823fe492",
   "metadata": {},
   "outputs": [],
   "source": [
    "import logging"
   ]
  },
  {
   "cell_type": "code",
   "execution_count": 2,
   "id": "49dab745",
   "metadata": {},
   "outputs": [
    {
     "name": "stderr",
     "output_type": "stream",
     "text": [
      "DEBUG:root:This is a debug message\n",
      "INFO:root:This is an info message\n",
      "WARNING:root:This is a warning message\n",
      "ERROR:root:This is an error message\n",
      "CRITICAL:root:This is a critical message\n"
     ]
    }
   ],
   "source": [
    "## Configure the basic logging settings\n",
    "logging.basicConfig(level=logging.DEBUG)\n",
    "\n",
    "## log messages with different severity levels\n",
    "logging.debug(\"This is a debug message\")\n",
    "logging.info(\"This is an info message\")\n",
    "logging.warning(\"This is a warning message\")\n",
    "logging.error(\"This is an error message\")\n",
    "logging.critical(\"This is a critical message\")"
   ]
  },
  {
   "cell_type": "markdown",
   "id": "a487797b",
   "metadata": {},
   "source": [
    "#### Log Levels\n",
    "Python's logging module has several log levels indicating the severity of events. The default levels are:\n",
    "\n",
    "- DEBUG: Detailed information, typically of interest only when diagnosing problems.\n",
    "- INFO: Confirmation that things are working as expected.\n",
    "- WARNING: An indication that something unexpected happened or indicative of some problem in the near future (e.g., ‘disk space low’). The software is still working as expected.\n",
    "- ERROR: Due to a more serious problem, the software has not been able to perform some function.\n",
    "- CRITICAL: A very serious error, indicating that the program itself may be unable to continue running."
   ]
  },
  {
   "cell_type": "code",
   "execution_count": 3,
   "id": "f8fd0941",
   "metadata": {},
   "outputs": [],
   "source": [
    "\n",
    "## configuring logging\n",
    "import logging\n",
    "\n",
    "logging.basicConfig(\n",
    "    filename='app.log',\n",
    "    filemode='w',\n",
    "    level=logging.DEBUG,\n",
    "    format='%(asctime)s-%(name)s-%(levelname)s-%(message)s',\n",
    "    datefmt='%Y-%m-%d %H:%M:%S',\n",
    "    force=True\n",
    "    )\n",
    "\n",
    "## log messages with different severity levels\n",
    "logging.debug(\"This is a debug message\")\n",
    "logging.info(\"This is an info message\")\n",
    "logging.warning(\"This is a warning message\")\n",
    "logging.error(\"This is an error message\")\n",
    "logging.critical(\"This is a critical message\")"
   ]
  },
  {
   "cell_type": "code",
   "execution_count": 4,
   "id": "47f7599d",
   "metadata": {},
   "outputs": [],
   "source": [
    "logging.debug(\"This is a debug message\")\n",
    "logging.info(\"This is an info message\")\n",
    "logging.warning(\"This is a warning message\")\n",
    "logging.error(\"This is an error message\")\n",
    "logging.critical(\"This is a critical message\")"
   ]
  },
  {
   "cell_type": "markdown",
   "id": "db102357",
   "metadata": {},
   "source": [
    "#### Logging with Multiple Loggers\n",
    "\n",
    "You can create multiple loggers for different parts of your application."
   ]
  },
  {
   "cell_type": "code",
   "execution_count": 5,
   "id": "117b953b",
   "metadata": {},
   "outputs": [],
   "source": [
    "import logging \n",
    "## create a logger for module1\n",
    "logger1=logging.getLogger(\"module1\")\n",
    "logger1.setLevel(logging.DEBUG)\n",
    "\n",
    "## create a logger for module2\n",
    "logger2=logging.getLogger(\"module2\")\n",
    "logger2.setLevel(logging.WARNING)\n",
    "\n",
    "logging.basicConfig(\n",
    "    filename='app.log',\n",
    "    filemode='w',\n",
    "    level=logging.DEBUG,\n",
    "    format='%(asctime)s-%(name)s-%(levelname)s-%(message)s',\n",
    "    datefmt='%Y-%m-%d %H:%M:%S',\n",
    "    force=True\n",
    "    )"
   ]
  },
  {
   "cell_type": "code",
   "execution_count": 6,
   "id": "72bb307d",
   "metadata": {},
   "outputs": [],
   "source": [
    "## log message with different loggers\n",
    "logger1.debug(\"This is debug message for module1\")\n",
    "logger2.warning(\"This is warning message for module2\")\n"
   ]
  },
  {
   "cell_type": "markdown",
   "id": "21e94ce9",
   "metadata": {},
   "source": [
    "#### Logging with a real world example"
   ]
  },
  {
   "cell_type": "code",
   "execution_count": 7,
   "id": "bc388890",
   "metadata": {},
   "outputs": [
    {
     "name": "stderr",
     "output_type": "stream",
     "text": [
      "2025-09-10 01:14:44-ArithmeticApp-DEBUG-Adding 10+15=25\n",
      "2025-09-10 01:14:44-ArithmeticApp-DEBUG-Adding 15-5=10\n",
      "2025-09-10 01:14:44-ArithmeticApp-DEBUG-Adding 10*5=50\n",
      "2025-09-10 01:14:44-ArithmeticApp-DEBUG-Adding 10/2=5.0\n"
     ]
    },
    {
     "data": {
      "text/plain": [
       "5.0"
      ]
     },
     "execution_count": 7,
     "metadata": {},
     "output_type": "execute_result"
    }
   ],
   "source": [
    "import logging\n",
    "\n",
    "logging.basicConfig(\n",
    "    level=logging.DEBUG,\n",
    "    format='%(asctime)s-%(name)s-%(levelname)s-%(message)s',\n",
    "    datefmt='%Y-%m-%d %H:%M:%S',\n",
    "    force=True,\n",
    "    handlers=[\n",
    "        logging.FileHandler(\"app1.log\"),\n",
    "        logging.StreamHandler()\n",
    "    ]\n",
    "    )\n",
    "\n",
    "logger=logging.getLogger(\"ArithmeticApp\")\n",
    "\n",
    "def add(a,b):\n",
    "    result=a+b\n",
    "    logger.debug(f\"Adding {a}+{b}={result}\")\n",
    "    return result\n",
    "\n",
    "def sub(a,b):\n",
    "    result=a-b\n",
    "    logger.debug(f\"Adding {a}-{b}={result}\")\n",
    "    return result\n",
    "\n",
    "def mult(a,b):\n",
    "    result=a*b\n",
    "    logger.debug(f\"Adding {a}*{b}={result}\")\n",
    "    return result\n",
    "\n",
    "def div(a,b):\n",
    "    try:\n",
    "        result=a/b\n",
    "        logger.debug(f\"Adding {a}/{b}={result}\")\n",
    "        return result\n",
    "    except ZeroDivisionError:\n",
    "        logger.error(\"Division by Zero error\")\n",
    "        return None\n",
    "\n",
    "add(10,15)\n",
    "sub(15,5)\n",
    "mult(10,5)\n",
    "div(10,2)"
   ]
  }
 ],
 "metadata": {
  "kernelspec": {
   "display_name": "Python 3",
   "language": "python",
   "name": "python3"
  },
  "language_info": {
   "codemirror_mode": {
    "name": "ipython",
    "version": 3
   },
   "file_extension": ".py",
   "mimetype": "text/x-python",
   "name": "python",
   "nbconvert_exporter": "python",
   "pygments_lexer": "ipython3",
   "version": "3.13.0"
  }
 },
 "nbformat": 4,
 "nbformat_minor": 5
}
